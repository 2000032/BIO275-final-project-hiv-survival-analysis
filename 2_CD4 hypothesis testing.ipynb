{
 "cells": [
  {
   "cell_type": "code",
   "execution_count": 123,
   "id": "2f355be8",
   "metadata": {},
   "outputs": [],
   "source": [
    "import pandas as pd\n",
    "pd.set_option('display.max_columns', None)  "
   ]
  },
  {
   "cell_type": "code",
   "execution_count": 124,
   "id": "619eebe3",
   "metadata": {},
   "outputs": [],
   "source": [
    "from scipy.stats import levene, shapiro, f_oneway, kruskal\n",
    "import statsmodels.api as sm\n",
    "from statsmodels.formula.api import ols\n",
    "from bioinfokit.analys import stat\n",
    "from sklearn import preprocessing\n",
    "from scipy.stats import kstest, ttest_ind, ks_2samp, zscore"
   ]
  },
  {
   "cell_type": "code",
   "execution_count": 125,
   "id": "77c62f88",
   "metadata": {},
   "outputs": [],
   "source": [
    "import matplotlib.pyplot as plt\n",
    "import seaborn as sns"
   ]
  },
  {
   "cell_type": "markdown",
   "id": "842a02b4",
   "metadata": {},
   "source": [
    "# A. Import data"
   ]
  },
  {
   "cell_type": "code",
   "execution_count": 126,
   "id": "dbc231a6",
   "metadata": {},
   "outputs": [],
   "source": [
    "# Dataset\n",
    "from ucimlrepo import fetch_ucirepo \n",
    "  \n",
    "# fetch dataset \n",
    "aids_clinical_trials_group_study_175 = fetch_ucirepo(id=890) \n",
    "  \n",
    "# data (as pandas dataframes) \n",
    "X = aids_clinical_trials_group_study_175.data.features \n",
    "y = aids_clinical_trials_group_study_175.data.targets "
   ]
  },
  {
   "cell_type": "code",
   "execution_count": 127,
   "id": "02921355",
   "metadata": {},
   "outputs": [
    {
     "name": "stderr",
     "output_type": "stream",
     "text": [
      "/opt/anaconda3/envs/bio275_project/lib/python3.7/site-packages/pandas/core/indexing.py:1667: SettingWithCopyWarning: \n",
      "A value is trying to be set on a copy of a slice from a DataFrame.\n",
      "Try using .loc[row_indexer,col_indexer] = value instead\n",
      "\n",
      "See the caveats in the documentation: https://pandas.pydata.org/pandas-docs/stable/user_guide/indexing.html#returning-a-view-versus-a-copy\n",
      "  self.obj[key] = value\n"
     ]
    }
   ],
   "source": [
    "X.loc[:,\"cd4_diff\"] = X[\"cd420\"] - X[\"cd40\"]"
   ]
  },
  {
   "cell_type": "code",
   "execution_count": 128,
   "id": "0fe0100e",
   "metadata": {},
   "outputs": [],
   "source": [
    "X_history = X.loc[X[\"str2\"]==1].reset_index(drop=True)\n",
    "X_no_history = X.loc[X[\"str2\"]==0].reset_index(drop=True)\n",
    "y_history = y.loc[X[\"str2\"]==1].reset_index(drop=True)\n",
    "y_no_history = y.loc[X[\"str2\"]==0].reset_index(drop=True)"
   ]
  },
  {
   "cell_type": "code",
   "execution_count": 129,
   "id": "4806d6df",
   "metadata": {},
   "outputs": [],
   "source": [
    "dict_str2 = {0:\"Without antiretroviral history\",1:\"With antiretroviral history\"}\n",
    "dict_trt = {0:\"ZDV only\",1:\"ZDV + ddI\",2:\"ZDV + Zal\", 3:\"ddI only\"}"
   ]
  },
  {
   "cell_type": "markdown",
   "id": "d74e0d78",
   "metadata": {},
   "source": [
    "## Summary Statistics"
   ]
  },
  {
   "cell_type": "code",
   "execution_count": 130,
   "id": "90b8727c",
   "metadata": {},
   "outputs": [
    {
     "data": {
      "text/html": [
       "<div>\n",
       "<style scoped>\n",
       "    .dataframe tbody tr th:only-of-type {\n",
       "        vertical-align: middle;\n",
       "    }\n",
       "\n",
       "    .dataframe tbody tr th {\n",
       "        vertical-align: top;\n",
       "    }\n",
       "\n",
       "    .dataframe thead tr th {\n",
       "        text-align: left;\n",
       "    }\n",
       "\n",
       "    .dataframe thead tr:last-of-type th {\n",
       "        text-align: right;\n",
       "    }\n",
       "</style>\n",
       "<table border=\"1\" class=\"dataframe\">\n",
       "  <thead>\n",
       "    <tr>\n",
       "      <th></th>\n",
       "      <th></th>\n",
       "      <th colspan=\"4\" halign=\"left\">cd4_diff</th>\n",
       "    </tr>\n",
       "    <tr>\n",
       "      <th></th>\n",
       "      <th></th>\n",
       "      <th>mean</th>\n",
       "      <th>median</th>\n",
       "      <th>std</th>\n",
       "      <th>var</th>\n",
       "    </tr>\n",
       "    <tr>\n",
       "      <th>Group</th>\n",
       "      <th>Treatment</th>\n",
       "      <th></th>\n",
       "      <th></th>\n",
       "      <th></th>\n",
       "      <th></th>\n",
       "    </tr>\n",
       "  </thead>\n",
       "  <tbody>\n",
       "    <tr>\n",
       "      <th rowspan=\"4\" valign=\"top\">Without antiretroviral history</th>\n",
       "      <th>ZDV only</th>\n",
       "      <td>5.336323</td>\n",
       "      <td>7.0</td>\n",
       "      <td>109.960185</td>\n",
       "      <td>12091.242233</td>\n",
       "    </tr>\n",
       "    <tr>\n",
       "      <th>ZDV + ddI</th>\n",
       "      <td>75.361502</td>\n",
       "      <td>70.0</td>\n",
       "      <td>155.620141</td>\n",
       "      <td>24217.628134</td>\n",
       "    </tr>\n",
       "    <tr>\n",
       "      <th>ZDV + Zal</th>\n",
       "      <td>36.759434</td>\n",
       "      <td>35.5</td>\n",
       "      <td>108.892328</td>\n",
       "      <td>11857.539010</td>\n",
       "    </tr>\n",
       "    <tr>\n",
       "      <th>ddI only</th>\n",
       "      <td>45.457983</td>\n",
       "      <td>39.0</td>\n",
       "      <td>115.563800</td>\n",
       "      <td>13354.991898</td>\n",
       "    </tr>\n",
       "    <tr>\n",
       "      <th rowspan=\"4\" valign=\"top\">With antiretroviral history</th>\n",
       "      <th>ZDV only</th>\n",
       "      <td>-33.233010</td>\n",
       "      <td>-27.0</td>\n",
       "      <td>97.757406</td>\n",
       "      <td>9556.510465</td>\n",
       "    </tr>\n",
       "    <tr>\n",
       "      <th>ZDV + ddI</th>\n",
       "      <td>40.032362</td>\n",
       "      <td>30.0</td>\n",
       "      <td>134.279410</td>\n",
       "      <td>18030.959988</td>\n",
       "    </tr>\n",
       "    <tr>\n",
       "      <th>ZDV + Zal</th>\n",
       "      <td>7.375000</td>\n",
       "      <td>-0.5</td>\n",
       "      <td>113.289873</td>\n",
       "      <td>12834.595257</td>\n",
       "    </tr>\n",
       "    <tr>\n",
       "      <th>ddI only</th>\n",
       "      <td>13.151703</td>\n",
       "      <td>0.0</td>\n",
       "      <td>111.982496</td>\n",
       "      <td>12540.079399</td>\n",
       "    </tr>\n",
       "  </tbody>\n",
       "</table>\n",
       "</div>"
      ],
      "text/plain": [
       "                                           cd4_diff                     \\\n",
       "                                               mean median         std   \n",
       "Group                          Treatment                                 \n",
       "Without antiretroviral history ZDV only    5.336323    7.0  109.960185   \n",
       "                               ZDV + ddI  75.361502   70.0  155.620141   \n",
       "                               ZDV + Zal  36.759434   35.5  108.892328   \n",
       "                               ddI only   45.457983   39.0  115.563800   \n",
       "With antiretroviral history    ZDV only  -33.233010  -27.0   97.757406   \n",
       "                               ZDV + ddI  40.032362   30.0  134.279410   \n",
       "                               ZDV + Zal   7.375000   -0.5  113.289873   \n",
       "                               ddI only   13.151703    0.0  111.982496   \n",
       "\n",
       "                                                        \n",
       "                                                   var  \n",
       "Group                          Treatment                \n",
       "Without antiretroviral history ZDV only   12091.242233  \n",
       "                               ZDV + ddI  24217.628134  \n",
       "                               ZDV + Zal  11857.539010  \n",
       "                               ddI only   13354.991898  \n",
       "With antiretroviral history    ZDV only    9556.510465  \n",
       "                               ZDV + ddI  18030.959988  \n",
       "                               ZDV + Zal  12834.595257  \n",
       "                               ddI only   12540.079399  "
      ]
     },
     "execution_count": 130,
     "metadata": {},
     "output_type": "execute_result"
    }
   ],
   "source": [
    "X_cd4_summary = X.groupby([\"str2\",\"trt\"]).agg({\"cd4_diff\":[\"mean\",\"median\",\"std\",\"var\"]})\n",
    "X_cd4_summary.index = pd.MultiIndex.from_product([list(map(dict_str2.get, X_cd4_summary.index.get_level_values(\"str2\").unique().tolist())),\n",
    "                                                  list(map(dict_trt.get, X_cd4_summary.index.get_level_values(\"trt\").unique().tolist()))],\n",
    "                                              names=X_cd4_summary.index.names)\n",
    "X_cd4_summary.index = X_cd4_summary.index.set_names([\"Group\", \"Treatment\"])\n",
    "X_cd4_summary"
   ]
  },
  {
   "cell_type": "code",
   "execution_count": 131,
   "id": "a668b747",
   "metadata": {},
   "outputs": [],
   "source": [
    "sns.set(style=\"whitegrid\")"
   ]
  },
  {
   "cell_type": "code",
   "execution_count": 132,
   "id": "e0b893ca",
   "metadata": {},
   "outputs": [
    {
     "data": {
      "image/png": "[encoded data removed]",
      "text/plain": [
       "<Figure size 1000x400 with 2 Axes>"
      ]
     },
     "metadata": {},
     "output_type": "display_data"
    }
   ],
   "source": [
    "fig, axes = plt.subplots(1,2, figsize=(10,4))\n",
    "\n",
    "ax = sns.boxplot(x='trt', y='cd4_diff', data=X_no_history, color='blue', ax=axes[0])\n",
    "ax.set_title(\"Without antiretroviral history\")\n",
    "ax.set_xlabel(\"Treatment\")\n",
    "ax.set_ylabel(\"CD4 difference\")\n",
    "_=ax.set_xticklabels([\"ZDV only\",\"ZDV + ddI\",\"ZDV + Zal\", \"ddI only\"])\n",
    "\n",
    "ax = sns.boxplot(x='trt', y='cd4_diff', data=X_history, color='orange', ax=axes[1])\n",
    "# ax = sns.swarmplot(x=\"trt\", y=\"cd4_diff\", data=X_history, color='#7d0013', size=2)\n",
    "ax.set_title(\"With antiretroviral history\")\n",
    "ax.set_xlabel(\"Treatment\")\n",
    "ax.set_ylabel(\"CD4 difference\")\n",
    "_=ax.set_xticklabels([\"ZDV only\",\"ZDV + ddI\",\"ZDV + Zal\", \"ddI only\"])\n",
    "\n",
    "\n",
    "plt.tight_layout()\n",
    "plt.show()\n"
   ]
  },
  {
   "cell_type": "markdown",
   "id": "331a5d17",
   "metadata": {},
   "source": [
    "# B. Comparison across all groups"
   ]
  },
  {
   "attachments": {},
   "cell_type": "markdown",
   "id": "dd1d2e49",
   "metadata": {},
   "source": [
    "## B1. Analysis of variance (ANOVA)\n",
    "null hypothesis: The means are the same for all the data groups.<br>\n",
    "alternative hypothesis: The means in at least one pair between the treatment groups are different."
   ]
  },
  {
   "cell_type": "markdown",
   "id": "94d489a5",
   "metadata": {},
   "source": [
    "#### With antiretroviral history"
   ]
  },
  {
   "cell_type": "code",
   "execution_count": 133,
   "id": "f5561c9e",
   "metadata": {},
   "outputs": [
    {
     "data": {
      "text/html": [
       "<div>\n",
       "<style scoped>\n",
       "    .dataframe tbody tr th:only-of-type {\n",
       "        vertical-align: middle;\n",
       "    }\n",
       "\n",
       "    .dataframe tbody tr th {\n",
       "        vertical-align: top;\n",
       "    }\n",
       "\n",
       "    .dataframe thead th {\n",
       "        text-align: right;\n",
       "    }\n",
       "</style>\n",
       "<table border=\"1\" class=\"dataframe\">\n",
       "  <thead>\n",
       "    <tr style=\"text-align: right;\">\n",
       "      <th></th>\n",
       "      <th>df</th>\n",
       "      <th>sum_sq</th>\n",
       "      <th>mean_sq</th>\n",
       "      <th>F</th>\n",
       "      <th>PR(&gt;F)</th>\n",
       "    </tr>\n",
       "  </thead>\n",
       "  <tbody>\n",
       "    <tr>\n",
       "      <th>C(trt)</th>\n",
       "      <td>3.0</td>\n",
       "      <td>8.495937e+05</td>\n",
       "      <td>283197.908001</td>\n",
       "      <td>21.402971</td>\n",
       "      <td>1.605039e-13</td>\n",
       "    </tr>\n",
       "    <tr>\n",
       "      <th>Residual</th>\n",
       "      <td>1249.0</td>\n",
       "      <td>1.652641e+07</td>\n",
       "      <td>13231.709841</td>\n",
       "      <td>NaN</td>\n",
       "      <td>NaN</td>\n",
       "    </tr>\n",
       "  </tbody>\n",
       "</table>\n",
       "</div>"
      ],
      "text/plain": [
       "              df        sum_sq        mean_sq          F        PR(>F)\n",
       "C(trt)       3.0  8.495937e+05  283197.908001  21.402971  1.605039e-13\n",
       "Residual  1249.0  1.652641e+07   13231.709841        NaN           NaN"
      ]
     },
     "execution_count": 133,
     "metadata": {},
     "output_type": "execute_result"
    }
   ],
   "source": [
    "# ANOVA model\n",
    "res = stat()\n",
    "res.anova_stat(df=X_history, res_var='cd4_diff', anova_model='cd4_diff ~ C(trt)')\n",
    "\n",
    "res.anova_summary"
   ]
  },
  {
   "cell_type": "code",
   "execution_count": 134,
   "id": "040436bc",
   "metadata": {},
   "outputs": [
    {
     "data": {
      "image/png": "[encoded data removed]",
      "text/plain": [
       "<Figure size 640x480 with 1 Axes>"
      ]
     },
     "metadata": {},
     "output_type": "display_data"
    }
   ],
   "source": [
    "# Residual Distribution\n",
    "sm.qqplot(res.anova_std_residuals, line='45', markersize=3)\n",
    "plt.xlabel(\"Theoretical Quantiles\")\n",
    "plt.ylabel(\"Standardized Residuals\")\n",
    "plt.show()"
   ]
  },
  {
   "cell_type": "code",
   "execution_count": 135,
   "id": "f15fbffd",
   "metadata": {},
   "outputs": [
    {
     "data": {
      "image/png": "[encoded data removed]",
      "text/plain": [
       "<Figure size 640x480 with 1 Axes>"
      ]
     },
     "metadata": {},
     "output_type": "display_data"
    }
   ],
   "source": [
    "# histogram\n",
    "plt.hist(res.anova_model_out.resid, bins='auto', histtype='bar', ec='k') \n",
    "plt.xlabel(\"Residuals\")\n",
    "plt.ylabel('Frequency')\n",
    "plt.show()"
   ]
  },
  {
   "cell_type": "code",
   "execution_count": 136,
   "id": "dc41c54a",
   "metadata": {},
   "outputs": [
    {
     "name": "stdout",
     "output_type": "stream",
     "text": [
      "Statistic: 0.959419846534729\n",
      "p-value:3.4663650837863947e-18\n"
     ]
    }
   ],
   "source": [
    "# Shapiro-Wilk test: check the normal distribution of residuals.\n",
    "statistic, p_value = shapiro(res.anova_model_out.resid)\n",
    "print(f'Statistic: {statistic}')\n",
    "print(f'p-value:{p_value}')"
   ]
  },
  {
   "cell_type": "code",
   "execution_count": 137,
   "id": "ec331e4f",
   "metadata": {},
   "outputs": [
    {
     "name": "stdout",
     "output_type": "stream",
     "text": [
      "Statistic: 0.05487029782682984\n",
      "p-value:0.0010157592925892584\n"
     ]
    }
   ],
   "source": [
    "# KS test for check normality\n",
    "# standardize\n",
    "residual_zscored = preprocessing.scale(res.anova_model_out.resid)\n",
    "\n",
    "statistic, p_value = kstest(residual_zscored, 'norm')\n",
    "print(f'Statistic: {statistic}')\n",
    "print(f'p-value:{p_value}')"
   ]
  },
  {
   "cell_type": "code",
   "execution_count": 138,
   "id": "e895d6f7",
   "metadata": {},
   "outputs": [
    {
     "name": "stdout",
     "output_type": "stream",
     "text": [
      "Statistic: 5.548584099953611\n",
      "p-value:0.0008776144384195461\n"
     ]
    }
   ],
   "source": [
    "# Check assumptions of ANOVA¶\n",
    "# Levene's test: assesses the homogeneity of variance\n",
    "statistic, p_value=levene(X_history.loc[X_history[\"trt\"]==0,\"cd4_diff\"], \n",
    "                          X_history.loc[X_history[\"trt\"]==1,\"cd4_diff\"], \n",
    "                          X_history.loc[X_history[\"trt\"]==2,\"cd4_diff\"], \n",
    "                          X_history.loc[X_history[\"trt\"]==3,\"cd4_diff\"])\n",
    "\n",
    "print(f'Statistic: {statistic}')\n",
    "print(f'p-value:{p_value}')"
   ]
  },
  {
   "cell_type": "markdown",
   "id": "d267ea28",
   "metadata": {},
   "source": [
    "#### Without antiretroviral history"
   ]
  },
  {
   "cell_type": "code",
   "execution_count": 139,
   "id": "611d3e69",
   "metadata": {},
   "outputs": [
    {
     "data": {
      "text/html": [
       "<div>\n",
       "<style scoped>\n",
       "    .dataframe tbody tr th:only-of-type {\n",
       "        vertical-align: middle;\n",
       "    }\n",
       "\n",
       "    .dataframe tbody tr th {\n",
       "        vertical-align: top;\n",
       "    }\n",
       "\n",
       "    .dataframe thead th {\n",
       "        text-align: right;\n",
       "    }\n",
       "</style>\n",
       "<table border=\"1\" class=\"dataframe\">\n",
       "  <thead>\n",
       "    <tr style=\"text-align: right;\">\n",
       "      <th></th>\n",
       "      <th>df</th>\n",
       "      <th>sum_sq</th>\n",
       "      <th>mean_sq</th>\n",
       "      <th>F</th>\n",
       "      <th>PR(&gt;F)</th>\n",
       "    </tr>\n",
       "  </thead>\n",
       "  <tbody>\n",
       "    <tr>\n",
       "      <th>C(trt)</th>\n",
       "      <td>3.0</td>\n",
       "      <td>5.434158e+05</td>\n",
       "      <td>181138.599907</td>\n",
       "      <td>11.847142</td>\n",
       "      <td>1.301770e-07</td>\n",
       "    </tr>\n",
       "    <tr>\n",
       "      <th>Residual</th>\n",
       "      <td>882.0</td>\n",
       "      <td>1.348547e+07</td>\n",
       "      <td>15289.644842</td>\n",
       "      <td>NaN</td>\n",
       "      <td>NaN</td>\n",
       "    </tr>\n",
       "  </tbody>\n",
       "</table>\n",
       "</div>"
      ],
      "text/plain": [
       "             df        sum_sq        mean_sq          F        PR(>F)\n",
       "C(trt)      3.0  5.434158e+05  181138.599907  11.847142  1.301770e-07\n",
       "Residual  882.0  1.348547e+07   15289.644842        NaN           NaN"
      ]
     },
     "execution_count": 139,
     "metadata": {},
     "output_type": "execute_result"
    }
   ],
   "source": [
    "# ANOVA model\n",
    "res = stat()\n",
    "res.anova_stat(df=X_no_history, res_var='cd4_diff', anova_model='cd4_diff ~ C(trt)')\n",
    "\n",
    "res.anova_summary"
   ]
  },
  {
   "cell_type": "code",
   "execution_count": 140,
   "id": "9e262332",
   "metadata": {},
   "outputs": [
    {
     "data": {
      "image/png": "[encoded data removed]",
      "text/plain": [
       "<Figure size 640x480 with 1 Axes>"
      ]
     },
     "metadata": {},
     "output_type": "display_data"
    }
   ],
   "source": [
    "# Residual Distribution\n",
    "sm.qqplot(res.anova_std_residuals, line='45', markersize=3)\n",
    "plt.xlabel(\"Theoretical Quantiles\")\n",
    "plt.ylabel(\"Standardized Residuals\")\n",
    "plt.show()"
   ]
  },
  {
   "cell_type": "code",
   "execution_count": 141,
   "id": "c5d73b58",
   "metadata": {},
   "outputs": [
    {
     "data": {
      "image/png": "[encoded data removed]",
      "text/plain": [
       "<Figure size 640x480 with 1 Axes>"
      ]
     },
     "metadata": {},
     "output_type": "display_data"
    }
   ],
   "source": [
    "# histogram\n",
    "plt.hist(res.anova_model_out.resid, bins='auto', histtype='bar', ec='k') \n",
    "plt.xlabel(\"Residuals\")\n",
    "plt.ylabel('Frequency')\n",
    "plt.show()"
   ]
  },
  {
   "cell_type": "code",
   "execution_count": 142,
   "id": "d8843c5f",
   "metadata": {},
   "outputs": [
    {
     "name": "stdout",
     "output_type": "stream",
     "text": [
      "Statistic: 0.976485013961792\n",
      "p-value:9.242548393295635e-11\n"
     ]
    }
   ],
   "source": [
    "# Shapiro-Wilk test: check the normal distribution of residuals.\n",
    "statistic, p_value = shapiro(res.anova_model_out.resid)\n",
    "print(f'Statistic: {statistic}')\n",
    "print(f'p-value:{p_value}')"
   ]
  },
  {
   "cell_type": "code",
   "execution_count": 143,
   "id": "3fbe6df9",
   "metadata": {},
   "outputs": [
    {
     "name": "stdout",
     "output_type": "stream",
     "text": [
      "Statistic: 0.044298499736912356\n",
      "p-value:0.05994262487388213\n"
     ]
    }
   ],
   "source": [
    "# KS test for check normality\n",
    "# standardize\n",
    "residual_zscored = preprocessing.scale(res.anova_model_out.resid)\n",
    "\n",
    "statistic, p_value = kstest(residual_zscored, 'norm')\n",
    "print(f'Statistic: {statistic}')\n",
    "print(f'p-value:{p_value}')"
   ]
  },
  {
   "cell_type": "code",
   "execution_count": 144,
   "id": "fdb6b511",
   "metadata": {},
   "outputs": [
    {
     "name": "stdout",
     "output_type": "stream",
     "text": [
      "Statistic:5.55\n",
      "p-value:0.00\n"
     ]
    }
   ],
   "source": [
    "# Check assumptions of ANOVA¶\n",
    "# Levene's test: assesses the homogeneity of variance\n",
    "statistic, p_value=levene(X_no_history.loc[X_no_history[\"trt\"]==0,\"cd4_diff\"], \n",
    "                          X_no_history.loc[X_no_history[\"trt\"]==1,\"cd4_diff\"], \n",
    "                          X_no_history.loc[X_no_history[\"trt\"]==2,\"cd4_diff\"], \n",
    "                          X_no_history.loc[X_no_history[\"trt\"]==3,\"cd4_diff\"])\n",
    "\n",
    "print('Statistic:%.2f'%statistic)\n",
    "print('p-value:%.2f'%p_value)"
   ]
  },
  {
   "cell_type": "markdown",
   "id": "e591fcea",
   "metadata": {},
   "source": [
    "It seems assumptions of ANOVA is not followed very well (normality of residuals, variance), so supplement with below test to see if similar conclusion is drawn."
   ]
  },
  {
   "cell_type": "markdown",
   "id": "7d5a626f",
   "metadata": {},
   "source": [
    "## B2. Supplement with Kruskal-Wallis test ##\n",
    "non-parametric test and an alternative to Anova when assumptions are not met<br>\n",
    "null hypothesis: The median is the same for all the data groups.<br>\n",
    "alternative hypothesis: The median is not equal for at least one pair of the data groups."
   ]
  },
  {
   "cell_type": "markdown",
   "id": "4a04c006",
   "metadata": {},
   "source": [
    "#### With antiretroviral history"
   ]
  },
  {
   "cell_type": "code",
   "execution_count": 145,
   "id": "5966072e",
   "metadata": {},
   "outputs": [
    {
     "name": "stdout",
     "output_type": "stream",
     "text": [
      "Statistic: 62.32601085222472\n",
      "p-value:1.8713761751918154e-13\n"
     ]
    }
   ],
   "source": [
    "# Kruskal-Wallis test: Alternative to ANOVA\n",
    "statistic, p_value = kruskal(X_history.loc[X_history[\"trt\"]==0,\"cd4_diff\"], \n",
    "                          X_history.loc[X_history[\"trt\"]==1,\"cd4_diff\"], \n",
    "                          X_history.loc[X_history[\"trt\"]==2,\"cd4_diff\"], \n",
    "                          X_history.loc[X_history[\"trt\"]==3,\"cd4_diff\"])\n",
    "print(f'Statistic: {statistic}')\n",
    "print(f'p-value:{p_value}')"
   ]
  },
  {
   "cell_type": "markdown",
   "id": "b9265c34",
   "metadata": {},
   "source": [
    "#### Without antiretroviral history"
   ]
  },
  {
   "cell_type": "code",
   "execution_count": 146,
   "id": "89431941",
   "metadata": {},
   "outputs": [
    {
     "name": "stdout",
     "output_type": "stream",
     "text": [
      "Statistic: 35.588303420612014\n",
      "p-value:9.149933643005939e-08\n"
     ]
    }
   ],
   "source": [
    "# Kruskal-Wallis test: Alternative to ANOVA\n",
    "statistic, p_value = kruskal(X_no_history.loc[X_no_history[\"trt\"]==0,\"cd4_diff\"], \n",
    "                          X_no_history.loc[X_no_history[\"trt\"]==1,\"cd4_diff\"], \n",
    "                          X_no_history.loc[X_no_history[\"trt\"]==2,\"cd4_diff\"], \n",
    "                          X_no_history.loc[X_no_history[\"trt\"]==3,\"cd4_diff\"])\n",
    "print(f'Statistic: {statistic}')\n",
    "print(f'p-value:{p_value}')"
   ]
  },
  {
   "cell_type": "markdown",
   "id": "ffa40b2a",
   "metadata": {},
   "source": [
    "Draw same conclusion that the central measure across treatment groups are significantly different"
   ]
  },
  {
   "cell_type": "markdown",
   "id": "a504797d",
   "metadata": {},
   "source": [
    "# C. Comparison between two groups"
   ]
  },
  {
   "cell_type": "markdown",
   "id": "eeb22b2f",
   "metadata": {},
   "source": [
    "The data approximately follows normal as shown below."
   ]
  },
  {
   "cell_type": "markdown",
   "id": "0169d42b",
   "metadata": {},
   "source": [
    "#### With antiretroviral history"
   ]
  },
  {
   "cell_type": "code",
   "execution_count": 147,
   "id": "03d02141",
   "metadata": {},
   "outputs": [
    {
     "name": "stdout",
     "output_type": "stream",
     "text": [
      "ZDV only\n",
      "Statistic: 0.07289775594221648\n",
      "p-value:0.07127709652383829\n",
      "ZDV + ddI\n",
      "Statistic: 0.07308806817988378\n",
      "p-value:0.07005296536462036\n",
      "ZDV + Zal\n",
      "Statistic: 0.05332685269356541\n",
      "p-value:0.3259136665500798\n",
      "ddI only\n",
      "Statistic: 0.06724501845823777\n",
      "p-value:0.10290672035450787\n"
     ]
    }
   ],
   "source": [
    "# KS test for check normality\n",
    "for x in [0,1,2,3]:\n",
    "    temp = X_history.loc[X_history[\"trt\"]==x,\"cd4_diff\"]\n",
    "    # standardize\n",
    "    residual_zscored = preprocessing.scale(temp)\n",
    "\n",
    "    statistic, p_value = kstest(residual_zscored, 'norm')\n",
    "    print(dict_trt.get(x))\n",
    "    print(f'Statistic: {statistic}')\n",
    "    print(f'p-value:{p_value}')"
   ]
  },
  {
   "cell_type": "markdown",
   "id": "e152c150",
   "metadata": {},
   "source": [
    "#### Without antiretroviral history"
   ]
  },
  {
   "cell_type": "code",
   "execution_count": 148,
   "id": "a8feef10",
   "metadata": {},
   "outputs": [
    {
     "name": "stdout",
     "output_type": "stream",
     "text": [
      "ZDV only\n",
      "Statistic: 0.04807022311135434\n",
      "p-value:0.6631495515436308\n",
      "ZDV + ddI\n",
      "Statistic: 0.08660136033971609\n",
      "p-value:0.07717682912989954\n",
      "ZDV + Zal\n",
      "Statistic: 0.03869857837340196\n",
      "p-value:0.8962755134168194\n",
      "ddI only\n",
      "Statistic: 0.034711512330421246\n",
      "p-value:0.9269607461725996\n"
     ]
    }
   ],
   "source": [
    "# KS test for check normality\n",
    "for x in [0,1,2,3]:\n",
    "    temp = X_no_history.loc[X_no_history[\"trt\"]==x,\"cd4_diff\"]\n",
    "    # standardize\n",
    "    residual_zscored = preprocessing.scale(temp)\n",
    "\n",
    "    statistic, p_value = kstest(residual_zscored, 'norm')\n",
    "    print(dict_trt.get(x))\n",
    "    print(f'Statistic: {statistic}')\n",
    "    print(f'p-value:{p_value}')"
   ]
  },
  {
   "cell_type": "markdown",
   "id": "593a7ac5",
   "metadata": {},
   "source": [
    "### C1. Welch Two Sample t-test"
   ]
  },
  {
   "cell_type": "markdown",
   "id": "11f10a9f",
   "metadata": {},
   "source": [
    "Above Levene's test suggests variances are not significantly the same across all groups. For simplicity, perform Welch Two Sample t-test (unequal variance) for all below pairwise testings, and follow the paper to use two-sided testing without adjustment for multiple comparisons."
   ]
  },
  {
   "cell_type": "markdown",
   "id": "d2600506",
   "metadata": {},
   "source": [
    "#### With antiretroviral history¶"
   ]
  },
  {
   "cell_type": "code",
   "execution_count": 149,
   "id": "cac67f57",
   "metadata": {},
   "outputs": [
    {
     "name": "stdout",
     "output_type": "stream",
     "text": [
      "ZDV only\n",
      "Statistic: 0.0\n",
      "p-value:1.0\n",
      "ZDV + ddI\n",
      "Statistic: -7.753933271346542\n",
      "p-value:4.1972373593337166e-14\n",
      "ZDV + Zal\n",
      "Statistic: -4.783582854924399\n",
      "p-value:2.1637211993595033e-06\n",
      "ddI only\n",
      "Statistic: -5.553920641395739\n",
      "p-value:4.1355635178711553e-08\n"
     ]
    }
   ],
   "source": [
    "# T-test (unequal variance)\n",
    "for x in [0,1,2,3]:\n",
    "    temp = X_history.loc[X_history[\"trt\"]==x,\"cd4_diff\"]\n",
    "    statistic, p_value = ttest_ind(X_history.loc[X_history[\"trt\"]==0,\"cd4_diff\"], \n",
    "              temp, \n",
    "              equal_var=False, \n",
    "              alternative='two-sided')\n",
    "    \n",
    "    print(dict_trt.get(x))\n",
    "    print(f'Statistic: {statistic}')\n",
    "    print(f'p-value:{p_value}')"
   ]
  },
  {
   "cell_type": "markdown",
   "id": "761a432c",
   "metadata": {},
   "source": [
    "#### Without antiretroviral history¶"
   ]
  },
  {
   "cell_type": "code",
   "execution_count": 150,
   "id": "003f756d",
   "metadata": {},
   "outputs": [
    {
     "name": "stdout",
     "output_type": "stream",
     "text": [
      "ZDV only\n",
      "Statistic: 0.0\n",
      "p-value:1.0\n",
      "ZDV + ddI\n",
      "Statistic: -5.4038691679608535\n",
      "p-value:1.1537834859154843e-07\n",
      "ZDV + Zal\n",
      "Statistic: -2.9939999912786983\n",
      "p-value:0.0029114936036771727\n",
      "ddI only\n",
      "Statistic: -3.819651721452476\n",
      "p-value:0.000152020866514568\n"
     ]
    }
   ],
   "source": [
    "# T-test (unequal variance)\n",
    "for x in [0,1,2,3]:\n",
    "    temp = X_no_history.loc[X_no_history[\"trt\"]==x,\"cd4_diff\"]\n",
    "    statistic, p_value = ttest_ind(X_no_history.loc[X_no_history[\"trt\"]==0,\"cd4_diff\"], \n",
    "              temp, \n",
    "              equal_var=False, \n",
    "              alternative='two-sided')\n",
    "    \n",
    "    print(dict_trt.get(x))\n",
    "    print(f'Statistic: {statistic}')\n",
    "    print(f'p-value:{p_value}')"
   ]
  },
  {
   "cell_type": "code",
   "execution_count": null,
   "id": "f551a164",
   "metadata": {},
   "outputs": [],
   "source": []
  },
  {
   "cell_type": "code",
   "execution_count": null,
   "id": "43733ded",
   "metadata": {},
   "outputs": [],
   "source": []
  },
  {
   "cell_type": "code",
   "execution_count": null,
   "id": "a3b28d55",
   "metadata": {},
   "outputs": [],
   "source": []
  }
 ],
 "metadata": {
  "kernelspec": {
   "display_name": "Python 3 (ipykernel)",
   "language": "python",
   "name": "python3"
  },
  "language_info": {
   "codemirror_mode": {
    "name": "ipython",
    "version": 3
   },
   "file_extension": ".py",
   "mimetype": "text/x-python",
   "name": "python",
   "nbconvert_exporter": "python",
   "pygments_lexer": "ipython3",
   "version": "3.7.12"
  }
 },
 "nbformat": 4,
 "nbformat_minor": 5
}
